{
 "cells": [
  {
   "cell_type": "markdown",
   "metadata": {},
   "source": [
    "## 0. Imports Preliminaries"
   ]
  },
  {
   "cell_type": "code",
   "execution_count": 49,
   "metadata": {},
   "outputs": [
    {
     "name": "stdout",
     "output_type": "stream",
     "text": [
      "Requirement already satisfied: nltk in c:\\users\\maria\\anaconda3\\envs\\fl_project_analysis\\lib\\site-packages (3.8.1)\n",
      "Collecting readability-lxml\n",
      "  Downloading readability_lxml-0.8.1-py3-none-any.whl (20 kB)\n",
      "Collecting readability\n",
      "  Downloading readability-0.3.1.tar.gz (34 kB)\n",
      "  Preparing metadata (setup.py): started\n",
      "  Preparing metadata (setup.py): finished with status 'done'\n",
      "Requirement already satisfied: spacy in c:\\users\\maria\\appdata\\roaming\\python\\python310\\site-packages (3.7.2)\n",
      "Collecting keras==2.8\n",
      "  Downloading keras-2.8.0-py2.py3-none-any.whl (1.4 MB)\n",
      "     ---------------------------------------- 0.0/1.4 MB ? eta -:--:--\n",
      "     ---------------------------------------- 0.0/1.4 MB ? eta -:--:--\n",
      "      --------------------------------------- 0.0/1.4 MB 660.6 kB/s eta 0:00:03\n",
      "     - -------------------------------------- 0.0/1.4 MB 326.8 kB/s eta 0:00:05\n",
      "     -- ------------------------------------- 0.1/1.4 MB 508.4 kB/s eta 0:00:03\n",
      "     -- ------------------------------------- 0.1/1.4 MB 508.4 kB/s eta 0:00:03\n",
      "     -- ------------------------------------- 0.1/1.4 MB 508.4 kB/s eta 0:00:03\n",
      "     -- ------------------------------------- 0.1/1.4 MB 508.4 kB/s eta 0:00:03\n",
      "     -- ------------------------------------- 0.1/1.4 MB 508.4 kB/s eta 0:00:03\n",
      "     -- ------------------------------------- 0.1/1.4 MB 201.8 kB/s eta 0:00:07\n",
      "     --- ------------------------------------ 0.1/1.4 MB 233.8 kB/s eta 0:00:06\n",
      "     --- ------------------------------------ 0.1/1.4 MB 225.3 kB/s eta 0:00:06\n",
      "     ---- ----------------------------------- 0.2/1.4 MB 280.8 kB/s eta 0:00:05\n",
      "     ----- ---------------------------------- 0.2/1.4 MB 268.6 kB/s eta 0:00:05\n",
      "     ----- ---------------------------------- 0.2/1.4 MB 287.6 kB/s eta 0:00:05\n",
      "     ----- ---------------------------------- 0.2/1.4 MB 276.8 kB/s eta 0:00:05\n",
      "     ------ --------------------------------- 0.2/1.4 MB 292.6 kB/s eta 0:00:04\n",
      "     ------- -------------------------------- 0.2/1.4 MB 295.5 kB/s eta 0:00:04\n",
      "     ------- -------------------------------- 0.2/1.4 MB 295.5 kB/s eta 0:00:04\n",
      "     ------- -------------------------------- 0.2/1.4 MB 295.5 kB/s eta 0:00:04\n",
      "     ------- -------------------------------- 0.3/1.4 MB 266.6 kB/s eta 0:00:05\n",
      "     -------- ------------------------------- 0.3/1.4 MB 297.0 kB/s eta 0:00:04\n",
      "     --------- ------------------------------ 0.3/1.4 MB 322.5 kB/s eta 0:00:04\n",
      "     ---------- ----------------------------- 0.4/1.4 MB 323.0 kB/s eta 0:00:04\n",
      "     ------------ --------------------------- 0.4/1.4 MB 358.2 kB/s eta 0:00:03\n",
      "     ------------- -------------------------- 0.5/1.4 MB 386.4 kB/s eta 0:00:03\n",
      "     -------------- ------------------------- 0.5/1.4 MB 406.3 kB/s eta 0:00:03\n",
      "     -------------- ------------------------- 0.5/1.4 MB 406.3 kB/s eta 0:00:03\n",
      "     ----------------- ---------------------- 0.6/1.4 MB 449.5 kB/s eta 0:00:02\n",
      "     ----------------- ---------------------- 0.6/1.4 MB 449.5 kB/s eta 0:00:02\n",
      "     ------------------ --------------------- 0.6/1.4 MB 436.9 kB/s eta 0:00:02\n",
      "     ------------------ --------------------- 0.6/1.4 MB 436.9 kB/s eta 0:00:02\n",
      "     ------------------- -------------------- 0.7/1.4 MB 417.0 kB/s eta 0:00:02\n",
      "     -------------------- ------------------- 0.7/1.4 MB 434.8 kB/s eta 0:00:02\n",
      "     --------------------- ------------------ 0.7/1.4 MB 441.1 kB/s eta 0:00:02\n",
      "     --------------------- ------------------ 0.8/1.4 MB 447.1 kB/s eta 0:00:02\n",
      "     ---------------------- ----------------- 0.8/1.4 MB 448.6 kB/s eta 0:00:02\n",
      "     ---------------------- ----------------- 0.8/1.4 MB 448.6 kB/s eta 0:00:02\n",
      "     ---------------------- ----------------- 0.8/1.4 MB 448.6 kB/s eta 0:00:02\n",
      "     ------------------------ --------------- 0.8/1.4 MB 451.4 kB/s eta 0:00:02\n",
      "     -------------------------- ------------- 0.9/1.4 MB 481.9 kB/s eta 0:00:01\n",
      "     --------------------------- ------------ 1.0/1.4 MB 478.5 kB/s eta 0:00:01\n",
      "     ---------------------------- ----------- 1.0/1.4 MB 490.1 kB/s eta 0:00:01\n",
      "     ------------------------------ --------- 1.1/1.4 MB 502.6 kB/s eta 0:00:01\n",
      "     ------------------------------ --------- 1.1/1.4 MB 502.6 kB/s eta 0:00:01\n",
      "     -------------------------------- ------- 1.1/1.4 MB 512.9 kB/s eta 0:00:01\n",
      "     -------------------------------- ------- 1.1/1.4 MB 512.9 kB/s eta 0:00:01\n",
      "     -------------------------------- ------- 1.1/1.4 MB 496.1 kB/s eta 0:00:01\n",
      "     -------------------------------- ------- 1.1/1.4 MB 496.1 kB/s eta 0:00:01\n",
      "     --------------------------------- ------ 1.1/1.4 MB 484.9 kB/s eta 0:00:01\n",
      "     --------------------------------- ------ 1.2/1.4 MB 479.7 kB/s eta 0:00:01\n",
      "     ---------------------------------- ----- 1.2/1.4 MB 485.2 kB/s eta 0:00:01\n",
      "     ------------------------------------ --- 1.3/1.4 MB 499.7 kB/s eta 0:00:01\n",
      "     ------------------------------------ --- 1.3/1.4 MB 499.7 kB/s eta 0:00:01\n",
      "     -------------------------------------- - 1.3/1.4 MB 506.1 kB/s eta 0:00:01\n",
      "     ---------------------------------------  1.4/1.4 MB 515.7 kB/s eta 0:00:01\n",
      "     ---------------------------------------  1.4/1.4 MB 515.7 kB/s eta 0:00:01\n",
      "     ---------------------------------------- 1.4/1.4 MB 497.6 kB/s eta 0:00:00\n",
      "Requirement already satisfied: click in c:\\users\\maria\\appdata\\roaming\\python\\python310\\site-packages (from nltk) (8.1.3)\n",
      "Requirement already satisfied: joblib in c:\\users\\maria\\appdata\\roaming\\python\\python310\\site-packages (from nltk) (1.2.0)\n",
      "Requirement already satisfied: regex>=2021.8.3 in c:\\users\\maria\\anaconda3\\envs\\fl_project_analysis\\lib\\site-packages (from nltk) (2023.10.3)\n",
      "Requirement already satisfied: tqdm in c:\\users\\maria\\anaconda3\\envs\\fl_project_analysis\\lib\\site-packages (from nltk) (4.66.1)\n",
      "Collecting chardet (from readability-lxml)\n",
      "  Downloading chardet-5.2.0-py3-none-any.whl.metadata (3.4 kB)\n",
      "Collecting lxml (from readability-lxml)\n",
      "  Downloading lxml-4.9.3-cp310-cp310-win_amd64.whl.metadata (3.9 kB)\n",
      "Collecting cssselect (from readability-lxml)\n",
      "  Downloading cssselect-1.2.0-py2.py3-none-any.whl (18 kB)\n",
      "Requirement already satisfied: spacy-legacy<3.1.0,>=3.0.11 in c:\\users\\maria\\anaconda3\\envs\\fl_project_analysis\\lib\\site-packages (from spacy) (3.0.12)\n",
      "Requirement already satisfied: spacy-loggers<2.0.0,>=1.0.0 in c:\\users\\maria\\anaconda3\\envs\\fl_project_analysis\\lib\\site-packages (from spacy) (1.0.5)\n",
      "Requirement already satisfied: murmurhash<1.1.0,>=0.28.0 in c:\\users\\maria\\anaconda3\\envs\\fl_project_analysis\\lib\\site-packages (from spacy) (1.0.10)\n",
      "Requirement already satisfied: cymem<2.1.0,>=2.0.2 in c:\\users\\maria\\anaconda3\\envs\\fl_project_analysis\\lib\\site-packages (from spacy) (2.0.8)\n",
      "Requirement already satisfied: preshed<3.1.0,>=3.0.2 in c:\\users\\maria\\anaconda3\\envs\\fl_project_analysis\\lib\\site-packages (from spacy) (3.0.9)\n",
      "Requirement already satisfied: thinc<8.3.0,>=8.1.8 in c:\\users\\maria\\appdata\\roaming\\python\\python310\\site-packages (from spacy) (8.2.1)\n",
      "Requirement already satisfied: wasabi<1.2.0,>=0.9.1 in c:\\users\\maria\\anaconda3\\envs\\fl_project_analysis\\lib\\site-packages (from spacy) (1.1.2)\n",
      "Requirement already satisfied: srsly<3.0.0,>=2.4.3 in c:\\users\\maria\\anaconda3\\envs\\fl_project_analysis\\lib\\site-packages (from spacy) (2.4.8)\n",
      "Requirement already satisfied: catalogue<2.1.0,>=2.0.6 in c:\\users\\maria\\anaconda3\\envs\\fl_project_analysis\\lib\\site-packages (from spacy) (2.0.10)\n",
      "Requirement already satisfied: weasel<0.4.0,>=0.1.0 in c:\\users\\maria\\anaconda3\\envs\\fl_project_analysis\\lib\\site-packages (from spacy) (0.3.4)\n",
      "Requirement already satisfied: typer<0.10.0,>=0.3.0 in c:\\users\\maria\\anaconda3\\envs\\fl_project_analysis\\lib\\site-packages (from spacy) (0.9.0)\n",
      "Requirement already satisfied: smart-open<7.0.0,>=5.2.1 in c:\\users\\maria\\anaconda3\\envs\\fl_project_analysis\\lib\\site-packages (from spacy) (6.4.0)\n",
      "Requirement already satisfied: requests<3.0.0,>=2.13.0 in c:\\users\\maria\\appdata\\roaming\\python\\python310\\site-packages (from spacy) (2.28.2)\n",
      "Requirement already satisfied: pydantic!=1.8,!=1.8.1,<3.0.0,>=1.7.4 in c:\\users\\maria\\anaconda3\\envs\\fl_project_analysis\\lib\\site-packages (from spacy) (2.5.2)\n",
      "Requirement already satisfied: jinja2 in c:\\users\\maria\\anaconda3\\envs\\fl_project_analysis\\lib\\site-packages (from spacy) (3.1.2)\n",
      "Requirement already satisfied: setuptools in c:\\users\\maria\\anaconda3\\envs\\fl_project_analysis\\lib\\site-packages (from spacy) (68.0.0)\n",
      "Requirement already satisfied: packaging>=20.0 in c:\\users\\maria\\anaconda3\\envs\\fl_project_analysis\\lib\\site-packages (from spacy) (23.2)\n",
      "Requirement already satisfied: langcodes<4.0.0,>=3.2.0 in c:\\users\\maria\\appdata\\roaming\\python\\python310\\site-packages (from spacy) (3.3.0)\n",
      "Requirement already satisfied: numpy>=1.19.0 in c:\\users\\maria\\anaconda3\\envs\\fl_project_analysis\\lib\\site-packages (from spacy) (1.26.2)\n",
      "Requirement already satisfied: annotated-types>=0.4.0 in c:\\users\\maria\\anaconda3\\envs\\fl_project_analysis\\lib\\site-packages (from pydantic!=1.8,!=1.8.1,<3.0.0,>=1.7.4->spacy) (0.6.0)\n",
      "Requirement already satisfied: pydantic-core==2.14.5 in c:\\users\\maria\\anaconda3\\envs\\fl_project_analysis\\lib\\site-packages (from pydantic!=1.8,!=1.8.1,<3.0.0,>=1.7.4->spacy) (2.14.5)\n",
      "Requirement already satisfied: typing-extensions>=4.6.1 in c:\\users\\maria\\anaconda3\\envs\\fl_project_analysis\\lib\\site-packages (from pydantic!=1.8,!=1.8.1,<3.0.0,>=1.7.4->spacy) (4.8.0)\n",
      "Requirement already satisfied: charset-normalizer<4,>=2 in c:\\users\\maria\\anaconda3\\envs\\fl_project_analysis\\lib\\site-packages (from requests<3.0.0,>=2.13.0->spacy) (3.3.2)\n",
      "Requirement already satisfied: idna<4,>=2.5 in c:\\users\\maria\\anaconda3\\envs\\fl_project_analysis\\lib\\site-packages (from requests<3.0.0,>=2.13.0->spacy) (3.6)\n",
      "Requirement already satisfied: urllib3<1.27,>=1.21.1 in c:\\users\\maria\\anaconda3\\envs\\fl_project_analysis\\lib\\site-packages (from requests<3.0.0,>=2.13.0->spacy) (1.26.18)\n",
      "Requirement already satisfied: certifi>=2017.4.17 in c:\\users\\maria\\anaconda3\\envs\\fl_project_analysis\\lib\\site-packages (from requests<3.0.0,>=2.13.0->spacy) (2023.11.17)\n",
      "Requirement already satisfied: blis<0.8.0,>=0.7.8 in c:\\users\\maria\\anaconda3\\envs\\fl_project_analysis\\lib\\site-packages (from thinc<8.3.0,>=8.1.8->spacy) (0.7.11)\n",
      "Requirement already satisfied: confection<1.0.0,>=0.0.1 in c:\\users\\maria\\anaconda3\\envs\\fl_project_analysis\\lib\\site-packages (from thinc<8.3.0,>=8.1.8->spacy) (0.1.4)\n",
      "Requirement already satisfied: colorama in c:\\users\\maria\\appdata\\roaming\\python\\python310\\site-packages (from tqdm->nltk) (0.4.6)\n",
      "Requirement already satisfied: cloudpathlib<0.17.0,>=0.7.0 in c:\\users\\maria\\anaconda3\\envs\\fl_project_analysis\\lib\\site-packages (from weasel<0.4.0,>=0.1.0->spacy) (0.16.0)\n",
      "Requirement already satisfied: MarkupSafe>=2.0 in c:\\users\\maria\\anaconda3\\envs\\fl_project_analysis\\lib\\site-packages (from jinja2->spacy) (2.1.3)\n",
      "Downloading chardet-5.2.0-py3-none-any.whl (199 kB)\n",
      "   ---------------------------------------- 0.0/199.4 kB ? eta -:--:--\n",
      "   ------ -------------------------------- 30.7/199.4 kB 660.6 kB/s eta 0:00:01\n",
      "   ------------------ -------------------- 92.2/199.4 kB 751.6 kB/s eta 0:00:01\n",
      "   --------------------------- ---------- 143.4/199.4 kB 944.1 kB/s eta 0:00:01\n",
      "   --------------------------- ---------- 143.4/199.4 kB 944.1 kB/s eta 0:00:01\n",
      "   -------------------------------------  194.6/199.4 kB 787.7 kB/s eta 0:00:01\n",
      "   -------------------------------------- 199.4/199.4 kB 711.1 kB/s eta 0:00:00\n",
      "Downloading lxml-4.9.3-cp310-cp310-win_amd64.whl (3.8 MB)\n",
      "   ---------------------------------------- 0.0/3.8 MB ? eta -:--:--\n",
      "   ---------------------------------------- 0.0/3.8 MB ? eta -:--:--\n",
      "   ---------------------------------------- 0.0/3.8 MB 660.6 kB/s eta 0:00:06\n",
      "   ---------------------------------------- 0.0/3.8 MB 660.6 kB/s eta 0:00:06\n",
      "   ---------------------------------------- 0.0/3.8 MB 660.6 kB/s eta 0:00:06\n",
      "    --------------------------------------- 0.1/3.8 MB 219.0 kB/s eta 0:00:18\n",
      "   - -------------------------------------- 0.1/3.8 MB 437.6 kB/s eta 0:00:09\n",
      "   - -------------------------------------- 0.1/3.8 MB 463.7 kB/s eta 0:00:08\n",
      "   - -------------------------------------- 0.1/3.8 MB 426.7 kB/s eta 0:00:09\n",
      "   -- ------------------------------------- 0.2/3.8 MB 525.1 kB/s eta 0:00:07\n",
      "   -- ------------------------------------- 0.2/3.8 MB 525.1 kB/s eta 0:00:07\n",
      "   -- ------------------------------------- 0.2/3.8 MB 525.1 kB/s eta 0:00:07\n",
      "   --- ------------------------------------ 0.3/3.8 MB 576.6 kB/s eta 0:00:07\n",
      "   --- ------------------------------------ 0.4/3.8 MB 637.7 kB/s eta 0:00:06\n",
      "   ---- ----------------------------------- 0.4/3.8 MB 655.4 kB/s eta 0:00:06\n",
      "   ---- ----------------------------------- 0.5/3.8 MB 671.2 kB/s eta 0:00:05\n",
      "   ----- ---------------------------------- 0.5/3.8 MB 684.6 kB/s eta 0:00:05\n",
      "   ----- ---------------------------------- 0.5/3.8 MB 697.5 kB/s eta 0:00:05\n",
      "   ------ --------------------------------- 0.6/3.8 MB 706.6 kB/s eta 0:00:05\n",
      "   ------ --------------------------------- 0.6/3.8 MB 703.3 kB/s eta 0:00:05\n",
      "   ------ --------------------------------- 0.6/3.8 MB 702.2 kB/s eta 0:00:05\n",
      "   ------- -------------------------------- 0.7/3.8 MB 710.8 kB/s eta 0:00:05\n",
      "   ------- -------------------------------- 0.7/3.8 MB 710.8 kB/s eta 0:00:05\n",
      "   ------- -------------------------------- 0.7/3.8 MB 665.5 kB/s eta 0:00:05\n",
      "   ------- -------------------------------- 0.7/3.8 MB 675.0 kB/s eta 0:00:05\n",
      "   -------- ------------------------------- 0.8/3.8 MB 682.7 kB/s eta 0:00:05\n",
      "   -------- ------------------------------- 0.8/3.8 MB 699.0 kB/s eta 0:00:05\n",
      "   -------- ------------------------------- 0.8/3.8 MB 689.5 kB/s eta 0:00:05\n",
      "   -------- ------------------------------- 0.8/3.8 MB 689.5 kB/s eta 0:00:05\n",
      "   --------- ------------------------------ 0.9/3.8 MB 647.7 kB/s eta 0:00:05\n",
      "   --------- ------------------------------ 0.9/3.8 MB 670.3 kB/s eta 0:00:05\n",
      "   ---------- ----------------------------- 1.0/3.8 MB 670.0 kB/s eta 0:00:05\n",
      "   ---------- ----------------------------- 1.0/3.8 MB 670.0 kB/s eta 0:00:05\n",
      "   ---------- ----------------------------- 1.0/3.8 MB 642.1 kB/s eta 0:00:05\n",
      "   ----------- ---------------------------- 1.0/3.8 MB 648.8 kB/s eta 0:00:05\n",
      "   ----------- ---------------------------- 1.1/3.8 MB 649.4 kB/s eta 0:00:05\n",
      "   ------------ --------------------------- 1.1/3.8 MB 679.8 kB/s eta 0:00:04\n",
      "   ------------ --------------------------- 1.2/3.8 MB 685.0 kB/s eta 0:00:04\n",
      "   ------------ --------------------------- 1.2/3.8 MB 685.0 kB/s eta 0:00:04\n",
      "   ------------ --------------------------- 1.2/3.8 MB 685.0 kB/s eta 0:00:04\n",
      "   ------------ --------------------------- 1.2/3.8 MB 685.0 kB/s eta 0:00:04\n",
      "   ------------ --------------------------- 1.2/3.8 MB 685.0 kB/s eta 0:00:04\n",
      "   ------------ --------------------------- 1.2/3.8 MB 685.0 kB/s eta 0:00:04\n",
      "   ------------ --------------------------- 1.2/3.8 MB 685.0 kB/s eta 0:00:04\n",
      "   ------------- -------------------------- 1.3/3.8 MB 610.3 kB/s eta 0:00:05\n",
      "   ------------- -------------------------- 1.3/3.8 MB 625.9 kB/s eta 0:00:04\n",
      "   -------------- ------------------------- 1.4/3.8 MB 645.9 kB/s eta 0:00:04\n",
      "   --------------- ------------------------ 1.4/3.8 MB 641.4 kB/s eta 0:00:04\n",
      "   --------------- ------------------------ 1.5/3.8 MB 655.5 kB/s eta 0:00:04\n",
      "   ---------------- ----------------------- 1.5/3.8 MB 659.9 kB/s eta 0:00:04\n",
      "   ---------------- ----------------------- 1.6/3.8 MB 677.2 kB/s eta 0:00:04\n",
      "   ----------------- ---------------------- 1.6/3.8 MB 681.2 kB/s eta 0:00:04\n",
      "   ----------------- ---------------------- 1.7/3.8 MB 688.8 kB/s eta 0:00:04\n",
      "   ------------------ --------------------- 1.7/3.8 MB 696.8 kB/s eta 0:00:03\n",
      "   ------------------- -------------------- 1.8/3.8 MB 703.5 kB/s eta 0:00:03\n",
      "   ------------------- -------------------- 1.8/3.8 MB 703.1 kB/s eta 0:00:03\n",
      "   ------------------- -------------------- 1.9/3.8 MB 702.1 kB/s eta 0:00:03\n",
      "   -------------------- ------------------- 1.9/3.8 MB 701.2 kB/s eta 0:00:03\n",
      "   -------------------- ------------------- 2.0/3.8 MB 707.5 kB/s eta 0:00:03\n",
      "   --------------------- ------------------ 2.0/3.8 MB 710.6 kB/s eta 0:00:03\n",
      "   --------------------- ------------------ 2.0/3.8 MB 710.6 kB/s eta 0:00:03\n",
      "   --------------------- ------------------ 2.0/3.8 MB 710.6 kB/s eta 0:00:03\n",
      "   --------------------- ------------------ 2.0/3.8 MB 710.6 kB/s eta 0:00:03\n",
      "   --------------------- ------------------ 2.0/3.8 MB 676.2 kB/s eta 0:00:03\n",
      "   --------------------- ------------------ 2.0/3.8 MB 676.2 kB/s eta 0:00:03\n",
      "   --------------------- ------------------ 2.0/3.8 MB 676.2 kB/s eta 0:00:03\n",
      "   --------------------- ------------------ 2.0/3.8 MB 676.2 kB/s eta 0:00:03\n",
      "   --------------------- ------------------ 2.1/3.8 MB 648.9 kB/s eta 0:00:03\n",
      "   ---------------------- ----------------- 2.1/3.8 MB 655.3 kB/s eta 0:00:03\n",
      "   ---------------------- ----------------- 2.1/3.8 MB 639.8 kB/s eta 0:00:03\n",
      "   ---------------------- ----------------- 2.1/3.8 MB 639.8 kB/s eta 0:00:03\n",
      "   ---------------------- ----------------- 2.1/3.8 MB 639.8 kB/s eta 0:00:03\n",
      "   ---------------------- ----------------- 2.1/3.8 MB 628.1 kB/s eta 0:00:03\n",
      "   ---------------------- ----------------- 2.2/3.8 MB 622.7 kB/s eta 0:00:03\n",
      "   ----------------------- ---------------- 2.2/3.8 MB 620.3 kB/s eta 0:00:03\n",
      "   ----------------------- ---------------- 2.2/3.8 MB 618.1 kB/s eta 0:00:03\n",
      "   ------------------------ --------------- 2.3/3.8 MB 629.9 kB/s eta 0:00:03\n",
      "   ------------------------ --------------- 2.3/3.8 MB 630.2 kB/s eta 0:00:03\n",
      "   ------------------------- -------------- 2.4/3.8 MB 641.6 kB/s eta 0:00:03\n",
      "   ------------------------- -------------- 2.4/3.8 MB 641.9 kB/s eta 0:00:03\n",
      "   -------------------------- ------------- 2.5/3.8 MB 652.8 kB/s eta 0:00:02\n",
      "   --------------------------- ------------ 2.6/3.8 MB 652.8 kB/s eta 0:00:02\n",
      "   --------------------------- ------------ 2.6/3.8 MB 655.3 kB/s eta 0:00:02\n",
      "   --------------------------- ------------ 2.6/3.8 MB 655.5 kB/s eta 0:00:02\n",
      "   ---------------------------- ----------- 2.7/3.8 MB 657.9 kB/s eta 0:00:02\n",
      "   ---------------------------- ----------- 2.7/3.8 MB 657.9 kB/s eta 0:00:02\n",
      "   ---------------------------- ----------- 2.7/3.8 MB 657.9 kB/s eta 0:00:02\n",
      "   ----------------------------- ---------- 2.8/3.8 MB 650.5 kB/s eta 0:00:02\n",
      "   ----------------------------- ---------- 2.8/3.8 MB 645.9 kB/s eta 0:00:02\n",
      "   ------------------------------ --------- 2.9/3.8 MB 664.8 kB/s eta 0:00:02\n",
      "   ------------------------------ --------- 2.9/3.8 MB 667.2 kB/s eta 0:00:02\n",
      "   ------------------------------- -------- 3.0/3.8 MB 674.0 kB/s eta 0:00:02\n",
      "   ------------------------------- -------- 3.0/3.8 MB 673.7 kB/s eta 0:00:02\n",
      "   --------------------------------- ------ 3.1/3.8 MB 689.3 kB/s eta 0:00:01\n",
      "   --------------------------------- ------ 3.2/3.8 MB 691.2 kB/s eta 0:00:01\n",
      "   ---------------------------------- ----- 3.3/3.8 MB 701.9 kB/s eta 0:00:01\n",
      "   ---------------------------------- ----- 3.3/3.8 MB 699.1 kB/s eta 0:00:01\n",
      "   ----------------------------------- ---- 3.3/3.8 MB 705.2 kB/s eta 0:00:01\n",
      "   ----------------------------------- ---- 3.3/3.8 MB 705.2 kB/s eta 0:00:01\n",
      "   ----------------------------------- ---- 3.3/3.8 MB 693.7 kB/s eta 0:00:01\n",
      "   ----------------------------------- ---- 3.4/3.8 MB 688.9 kB/s eta 0:00:01\n",
      "   ------------------------------------ --- 3.5/3.8 MB 699.0 kB/s eta 0:00:01\n",
      "   ------------------------------------ --- 3.5/3.8 MB 696.5 kB/s eta 0:00:01\n",
      "   ------------------------------------- -- 3.6/3.8 MB 706.3 kB/s eta 0:00:01\n",
      "   -------------------------------------- - 3.6/3.8 MB 705.3 kB/s eta 0:00:01\n",
      "   -------------------------------------- - 3.7/3.8 MB 711.2 kB/s eta 0:00:01\n",
      "   ---------------------------------------  3.7/3.8 MB 714.1 kB/s eta 0:00:01\n",
      "   ---------------------------------------  3.8/3.8 MB 713.9 kB/s eta 0:00:01\n",
      "   ---------------------------------------- 3.8/3.8 MB 708.1 kB/s eta 0:00:00\n",
      "Building wheels for collected packages: readability\n",
      "  Building wheel for readability (setup.py): started\n",
      "  Building wheel for readability (setup.py): finished with status 'done'\n",
      "  Created wheel for readability: filename=readability-0.3.1-py3-none-any.whl size=35493 sha256=71c90dce1b33873062161cb0a697983525618cbbad81b540f21c4ff00cfadc1b\n",
      "  Stored in directory: c:\\users\\maria\\appdata\\local\\pip\\cache\\wheels\\05\\07\\4d\\2e3a0aaba1713619a403e1a3c56e88a6fc12d753872b98771c\n",
      "Successfully built readability\n",
      "Installing collected packages: readability, keras, lxml, cssselect, chardet, readability-lxml\n",
      "Successfully installed chardet-5.2.0 cssselect-1.2.0 keras-2.8.0 lxml-4.9.3 readability-0.3.1 readability-lxml-0.8.1\n"
     ]
    }
   ],
   "source": [
    "#!pip install nltk readability-lxml readability spacy keras==2.8"
   ]
  },
  {
   "cell_type": "code",
   "execution_count": 1,
   "metadata": {},
   "outputs": [
    {
     "name": "stderr",
     "output_type": "stream",
     "text": [
      "[nltk_data] Downloading package punkt to\n",
      "[nltk_data]     C:\\Users\\maria\\AppData\\Roaming\\nltk_data...\n",
      "[nltk_data]   Package punkt is already up-to-date!\n"
     ]
    }
   ],
   "source": [
    "#0. Preliminaries\n",
    "import pandas as pd\n",
    "import nltk\n",
    "nltk.download('punkt')\n",
    "from readability import Readability"
   ]
  },
  {
   "cell_type": "code",
   "execution_count": 7,
   "metadata": {},
   "outputs": [],
   "source": [
    "from sklearn.feature_extraction.text import TfidfVectorizer, CountVectorizer\n",
    "import string\n",
    "import numpy as np\n",
    "from sklearn.model_selection import train_test_split\n",
    "import re\n",
    "import spacy"
   ]
  },
  {
   "cell_type": "code",
   "execution_count": 8,
   "metadata": {},
   "outputs": [
    {
     "name": "stderr",
     "output_type": "stream",
     "text": [
      "[nltk_data] Downloading package stopwords to\n",
      "[nltk_data]     C:\\Users\\maria\\AppData\\Roaming\\nltk_data...\n",
      "[nltk_data]   Package stopwords is already up-to-date!\n"
     ]
    },
    {
     "data": {
      "text/plain": [
       "True"
      ]
     },
     "execution_count": 8,
     "metadata": {},
     "output_type": "execute_result"
    }
   ],
   "source": [
    "from nltk.corpus import stopwords\n",
    "nltk.download('stopwords')"
   ]
  },
  {
   "cell_type": "code",
   "execution_count": 2,
   "metadata": {},
   "outputs": [
    {
     "name": "stderr",
     "output_type": "stream",
     "text": [
      "c:\\Users\\maria\\anaconda3\\envs\\fl_project_analysis\\lib\\site-packages\\tqdm\\auto.py:21: TqdmWarning: IProgress not found. Please update jupyter and ipywidgets. See https://ipywidgets.readthedocs.io/en/stable/user_install.html\n",
      "  from .autonotebook import tqdm as notebook_tqdm\n",
      "c:\\Users\\maria\\anaconda3\\envs\\fl_project_analysis\\lib\\site-packages\\transformers\\pipelines\\text_classification.py:105: UserWarning: `return_all_scores` is now deprecated,  if want a similar functionality use `top_k=None` instead of `return_all_scores=True` or `top_k=1` instead of `return_all_scores=False`.\n",
      "  warnings.warn(\n"
     ]
    }
   ],
   "source": [
    "from transformers import pipeline\n",
    "from transformers import AutoTokenizer\n",
    "tokenizer = AutoTokenizer.from_pretrained(\"lxyuan/distilbert-base-multilingual-cased-sentiments-student\", max_length = 512, truncation = True)\n",
    "\n",
    "distilled_student_sentiment_classifier = pipeline(\n",
    "    model=\"lxyuan/distilbert-base-multilingual-cased-sentiments-student\",\n",
    "    tokenizer = tokenizer,\n",
    "    return_all_scores=True\n",
    ")"
   ]
  },
  {
   "cell_type": "markdown",
   "metadata": {},
   "source": [
    "## 1. Load Data"
   ]
  },
  {
   "cell_type": "code",
   "execution_count": 26,
   "metadata": {},
   "outputs": [],
   "source": [
    "#1. Import Data\n",
    "df = pd.read_csv(\"../data/chunked_author_data_UTF8.csv\")"
   ]
  },
  {
   "cell_type": "code",
   "execution_count": 4,
   "metadata": {},
   "outputs": [
    {
     "data": {
      "text/plain": [
       "379"
      ]
     },
     "execution_count": 4,
     "metadata": {},
     "output_type": "execute_result"
    }
   ],
   "source": [
    "len(df)"
   ]
  },
  {
   "cell_type": "markdown",
   "metadata": {},
   "source": [
    "## 2. Clean Data "
   ]
  },
  {
   "cell_type": "code",
   "execution_count": 14,
   "metadata": {},
   "outputs": [],
   "source": [
    "def regex(string: str):\n",
    "    \"\"\"\n",
    "    Function that applies regular expressions to a string based on the specified model.\n",
    "    :param string: The input string.\n",
    "    :param model: The model to determine which regular expressions to apply.\n",
    "    :return: The modified string.\n",
    "    \"\"\"\n",
    "    string = re.sub(r'e\\.g\\.', 'eg', string)  # replace e.g. with eg\n",
    "    string = re.sub(r'i\\.e\\.', 'ie', string)  # replace i.e. with ie\n",
    "    string = re.sub(r'-', ' ', string)  # replace - with space\n",
    "    string = re.sub(r'[0-9]', '0', string)  # each digit will be represented as a 0\n",
    "    string = re.sub(r'\\(.*?\\)', '', string) # remove parentheses and the text within\n",
    "    string = re.sub(r'\\[.*?\\]', '', string) # remove brackets and the text within\n",
    "    string = re.sub(r\"https?:\\/\\/[a-zA-Z0-9.\\/]+\", \"@\", string) # remove links\n",
    "    string = re.sub('[^A-Za-z0-9\\s\\.,\\?!:;]+', '', string)# Remove special characters, so math formulas simplified.\n",
    "    string = re.sub(r'\\s\\s+', ' ', string) # remove if there is more than 1 space, inlcuding new line \\n and tab \\t\n",
    "    return string.strip() # Remove extra spaces at the begningining and end.\n",
    "\n",
    "assert regex(\"a\\t\\n b\") == \"a b\"\n",
    "assert regex(\"q123\") == \"q000\"\n",
    "assert regex(\"a (something something) b (sth th)\") == \"a b\"\n",
    "assert regex(\"a [something something] b [sth12 th]\") == \"a b\"\n",
    "assert regex(\"2 + 5 % 2\") == \"0 0 0\"\n",
    "assert regex(\",!;:.?\") == \",!;:.?\""
   ]
  },
  {
   "cell_type": "markdown",
   "metadata": {},
   "source": [
    "## 3. Add Features"
   ]
  },
  {
   "cell_type": "code",
   "execution_count": 15,
   "metadata": {},
   "outputs": [],
   "source": [
    "#Flesch \n",
    "def flesch_readability_scale(text):\n",
    "    try:\n",
    "        r = Readability(text)\n",
    "        f = r.flesch()\n",
    "        score_out = f.score\n",
    "    #not possible if less than 100 words\n",
    "    except:\n",
    "        score_out = np.nan\n",
    "    return score_out"
   ]
  },
  {
   "cell_type": "code",
   "execution_count": 34,
   "metadata": {},
   "outputs": [],
   "source": [
    "# Sentiment Analysis (Positive Score)\n",
    "tokenizer_kwargs = {'truncation':True,'max_length':512}\n",
    "def sentiment_analysis_score(text):\n",
    "    results_senti = distilled_student_sentiment_classifier(text, **tokenizer_kwargs)\n",
    "    positive_score = [x['score'] for x in results_senti[0] if x['label'] == 'positive']\n",
    "    score_out = positive_score[0] if len(positive_score) == 1 else np.nan\n",
    "    return score_out                          "
   ]
  },
  {
   "cell_type": "code",
   "execution_count": 35,
   "metadata": {},
   "outputs": [],
   "source": [
    "def lexical_diversity(text):\n",
    "    words = nltk.word_tokenize(text)\n",
    "    return len(set(words)) / len(words)\n",
    "\n",
    "assert lexical_diversity('a a b') == 2/3"
   ]
  },
  {
   "cell_type": "code",
   "execution_count": 36,
   "metadata": {},
   "outputs": [],
   "source": [
    "from nltk.tokenize import sent_tokenize, word_tokenize\n",
    "\n",
    "def avg_word_per_sentence(text):\n",
    "    return np.mean([len(word_tokenize(sentence)) for sentence in sent_tokenize(text)])\n",
    "\n",
    "assert avg_word_per_sentence('I like muffins. Please buy me two of them.') == 5.5"
   ]
  },
  {
   "cell_type": "code",
   "execution_count": 37,
   "metadata": {},
   "outputs": [],
   "source": [
    "def avg_word_length(text):\n",
    "    return np.mean([len(word) for sentence in sent_tokenize(text) for word in word_tokenize(sentence)])\n",
    "\n",
    "assert avg_word_length('I like giant muffins. Please buy me two of them.') == 3.25"
   ]
  },
  {
   "cell_type": "code",
   "execution_count": 43,
   "metadata": {},
   "outputs": [],
   "source": [
    "nlp = spacy.load(\"en_core_web_sm\")"
   ]
  },
  {
   "cell_type": "code",
   "execution_count": 44,
   "metadata": {},
   "outputs": [],
   "source": [
    "#remove proper nouns and POS-tag n grams\n",
    "def POS_preprocessing(text):\n",
    "    POS_string = \"\"\n",
    "    cleaned_string = \"\"\n",
    "    list_sentences = nltk.tokenize.sent_tokenize(text)\n",
    "    for sentence in list_sentences:\n",
    "        doc = nlp(sentence)\n",
    "        for token in doc:\n",
    "            #first add the text back\n",
    "            string_out = \"Propname\" if token.pos_ == \"PROPN\" else token.text\n",
    "            sep_out = \"\" if token.pos_ == \"PUNCT\" else \" \"\n",
    "            cleaned_string = cleaned_string + sep_out + string_out\n",
    "            #second \n",
    "            #POS_out = \"\" if token.pos_ == \"PUNCT\" else token.pos_\n",
    "            POS_string = POS_string + \" \" + token.pos_\n",
    "    return pd.Series({\n",
    "        'cleaned_string': cleaned_string,\n",
    "        'POS_string': POS_string\n",
    "    })"
   ]
  },
  {
   "cell_type": "code",
   "execution_count": 42,
   "metadata": {},
   "outputs": [],
   "source": [
    "def remove_bullet_points(text):\n",
    "    bulletpoint_delimiters = re.compile(r'(\\(i\\)|\\(ii\\)|•)')\n",
    "    text = re.sub(bulletpoint_delimiters, \"\", text)\n",
    "    return text"
   ]
  },
  {
   "cell_type": "code",
   "execution_count": 27,
   "metadata": {},
   "outputs": [],
   "source": [
    "df['flesch_score'] = df['Chunk'].apply(flesch_readability_scale)"
   ]
  },
  {
   "cell_type": "code",
   "execution_count": 28,
   "metadata": {},
   "outputs": [],
   "source": [
    "average_score_author = df[['flesch_score', 'Author']].dropna().groupby('Author').mean().reset_index()\n",
    "average_score_author.columns = [\"Author\", \"mean_flesch\"]\n",
    "df = df.merge(average_score_author, how = \"left\", on = \"Author\")\n",
    "df.loc[df['flesch_score'].isnull(), 'flesch_score'] = df.loc[df['flesch_score'].isnull(), 'mean_flesch']"
   ]
  },
  {
   "cell_type": "code",
   "execution_count": 61,
   "metadata": {},
   "outputs": [],
   "source": [
    "df['sent_score'] = df['Chunk'].apply(sentiment_analysis_score)"
   ]
  },
  {
   "cell_type": "code",
   "execution_count": 64,
   "metadata": {},
   "outputs": [],
   "source": [
    "df['re_text'] = df['Chunk'].apply(regex)\n",
    "#train has to be run first - a catch statement for that\n",
    "df['re_text'] = df['re_text'].apply(remove_bullet_points)\n",
    "#removing double space should be after removing bullet points! leaves a double space sometimes\n",
    "df[['re_text', 'POS_string']] = df['re_text'].apply(POS_preprocessing)\n",
    "df['lexical_diversity'] = df['re_text'].apply(lexical_diversity)\n",
    "df['avg_word_per_sentence'] = df['re_text'].apply(avg_word_per_sentence)\n",
    "df['avg_word_length'] = df['re_text'].apply(avg_word_length)"
   ]
  },
  {
   "cell_type": "code",
   "execution_count": 66,
   "metadata": {},
   "outputs": [
    {
     "data": {
      "text/plain": [
       "' In the landscape of cloud based Propname Propname Propname, the array of sizes and configurations available presents a challenge in effectively balancing computational cost and performance optimization. This paper introduces Propname, an innovative approach designed to strategically route queries to larger LLMs based on the approximate correctness of outputs from a smaller Propname. At its core, Propname incorporates a few shot self verification mechanism, allowing it to estimate the reliability of its own outputs without the need for additional training. To address the inherent noise in verifications, Propname employs a meta verifier, enhancing the accuracy of these assessments. Experimental results using Propname Propname on five context grounded reasoning datasets illustrate that Propname outperforms established baselines, yielding an up to 00 improvement in the incremental benefit per cost.'"
      ]
     },
     "execution_count": 66,
     "metadata": {},
     "output_type": "execute_result"
    }
   ],
   "source": [
    "df['re_text'][0]"
   ]
  },
  {
   "cell_type": "code",
   "execution_count": 73,
   "metadata": {},
   "outputs": [],
   "source": [
    "df.to_csv(\"../data/df_with_features.csv\")"
   ]
  },
  {
   "cell_type": "markdown",
   "metadata": {},
   "source": [
    "# 3. Split Data"
   ]
  },
  {
   "cell_type": "code",
   "execution_count": 74,
   "metadata": {},
   "outputs": [],
   "source": [
    "def select_equal_groups(group: pd.core.groupby.generic.DataFrameGroupBy, n: int):\n",
    "\n",
    "    return group.sample(min(n, len(group)), random_state=42)\n",
    "\n",
    "share_train = 0.7\n",
    "share_test = 0.3\n",
    "samples_train = int(len(df)*(share_train*(1-share_test)))\n",
    "samples_per_group = int(samples_train/5)\n",
    "\n",
    "df['ID'] = range(0, len(df))\n",
    "df_abstract_intro = df[~df['Type'].str.contains(\"conclusion_chunked\")]\n",
    "df_train= df_abstract_intro.groupby(\"Author\", group_keys=False)\\\n",
    "        .apply(select_equal_groups, samples_per_group)\\\n",
    "        .reset_index(drop=True)\n",
    "\n",
    "df_test_val = df[~df['ID'].isin(df_train['ID'])]\n",
    "df_val = df_test_val[~df_test_val['Type'].str.contains(\"conclusion_chunked\")]\n",
    "df_val, df_test_0  = train_test_split(df_val, train_size = 0.5, stratify = df_val['Author'], random_state = 42)\n",
    "df_test_1 = df_test_val[df_test_val['Type'].str.contains(\"conclusion_chunked\")]\n",
    "#df_test, df_val  = train_test_split(df_test_val, train_size = 0.5, stratify = df_test_val['Author'], random_state = 42)"
   ]
  },
  {
   "cell_type": "code",
   "execution_count": 75,
   "metadata": {},
   "outputs": [
    {
     "data": {
      "text/plain": [
       "Author\n",
       "Aman Madaan     37\n",
       "GPT-3.5         37\n",
       "Hugo Touvron    37\n",
       "Timo Schick     37\n",
       "Zhiqing Sun     37\n",
       "Name: count, dtype: int64"
      ]
     },
     "execution_count": 75,
     "metadata": {},
     "output_type": "execute_result"
    }
   ],
   "source": [
    "df_train['Author'].value_counts()"
   ]
  },
  {
   "cell_type": "code",
   "execution_count": 70,
   "metadata": {},
   "outputs": [
    {
     "data": {
      "text/plain": [
       "Author\n",
       "Aman Madaan     13\n",
       "Zhiqing Sun     12\n",
       "Hugo Touvron    11\n",
       "Timo Schick      9\n",
       "GPT-3.5          6\n",
       "Name: count, dtype: int64"
      ]
     },
     "execution_count": 70,
     "metadata": {},
     "output_type": "execute_result"
    }
   ],
   "source": [
    "df_val['Author'].value_counts()"
   ]
  },
  {
   "cell_type": "code",
   "execution_count": 72,
   "metadata": {},
   "outputs": [
    {
     "data": {
      "text/plain": [
       "Author\n",
       "Zhiqing Sun     13\n",
       "Aman Madaan     13\n",
       "Hugo Touvron    11\n",
       "Timo Schick     10\n",
       "GPT-3.5          5\n",
       "Name: count, dtype: int64"
      ]
     },
     "execution_count": 72,
     "metadata": {},
     "output_type": "execute_result"
    }
   ],
   "source": [
    "df_test_0['Author'].value_counts()"
   ]
  },
  {
   "cell_type": "code",
   "execution_count": 71,
   "metadata": {},
   "outputs": [
    {
     "data": {
      "text/plain": [
       "Author\n",
       "GPT-3.5         24\n",
       "Timo Schick     20\n",
       "Aman Madaan     17\n",
       "Hugo Touvron    15\n",
       "Zhiqing Sun     15\n",
       "Name: count, dtype: int64"
      ]
     },
     "execution_count": 71,
     "metadata": {},
     "output_type": "execute_result"
    }
   ],
   "source": [
    "df_test_1['Author'].value_counts()"
   ]
  },
  {
   "cell_type": "code",
   "execution_count": 89,
   "metadata": {},
   "outputs": [],
   "source": [
    "#punctuation n-grams\n",
    "punct_vectorizer = TfidfVectorizer(tokenizer=nltk.word_tokenize, use_idf=False, norm='l1', vocabulary=string.punctuation)"
   ]
  },
  {
   "cell_type": "code",
   "execution_count": 90,
   "metadata": {},
   "outputs": [],
   "source": [
    "pos_vectorizer = TfidfVectorizer(ngram_range=(2, 4))"
   ]
  },
  {
   "cell_type": "code",
   "execution_count": 91,
   "metadata": {},
   "outputs": [],
   "source": [
    "stopword_vectorizer = TfidfVectorizer(ngram_range=(1, 3), tokenizer=nltk.word_tokenize, vocabulary=stopwords.words(\"english\"))"
   ]
  },
  {
   "cell_type": "code",
   "execution_count": 92,
   "metadata": {},
   "outputs": [],
   "source": [
    "word_vectorizer = TfidfVectorizer(ngram_range=(1, 3))"
   ]
  },
  {
   "cell_type": "markdown",
   "metadata": {},
   "source": [
    "## 4. Tokenize Datasets"
   ]
  },
  {
   "cell_type": "code",
   "execution_count": 80,
   "metadata": {},
   "outputs": [],
   "source": [
    "punc = '''!()-[]{};:'\"\\,<>./?@#$%^&*_~'''\n",
    "def clean_punct(test_str):\n",
    "    for ele in test_str:\n",
    "        if ele in punc:\n",
    "            test_str = test_str.replace(ele, \"\")\n",
    "    return test_str"
   ]
  },
  {
   "cell_type": "code",
   "execution_count": 87,
   "metadata": {},
   "outputs": [],
   "source": [
    "def remove_stopwords(example_text):\n",
    "    word_tokens = word_tokenize(example_text)\n",
    "    filtered_sentence = [w for w in word_tokens if not w.lower() in stopwords.words(\"english\")]\n",
    "    return \" \".join(filtered_sentence)"
   ]
  },
  {
   "cell_type": "code",
   "execution_count": 51,
   "metadata": {},
   "outputs": [],
   "source": [
    "def preprocess_data(df, text_col, train = False):\n",
    "    df = df.reset_index(drop = True)\n",
    "    #these should be run first before cleaning punctuation and private words and stuff\n",
    "    #df['flesch_score'] = df[text_col].apply(flesch_readability_scale)\n",
    "    #commented out for now as takes long to run\n",
    "    try:\n",
    "        punct_features = punct_vectorizer.fit_transform(df[text_col]) if train else punct_vectorizer.transform(df[text_col])\n",
    "        columns = [f'punct_{c}' for c in punct_vectorizer.get_feature_names_out()]\n",
    "        punct_features_df = pd.DataFrame(punct_features.toarray(), columns=columns).reset_index(drop = True)\n",
    "        df = pd.concat([df, punct_features_df], axis = 1)\n",
    "    except Exception as e:\n",
    "        print(f\"Error In Generating Punctuation N-grams: {e}\")\n",
    "    try:\n",
    "        POS_features = pos_vectorizer.fit_transform(df['POS_string']) if train else pos_vectorizer.transform(df['POS_string'])\n",
    "        columns = [f'pos_{c}' for c in pos_vectorizer.get_feature_names_out()]\n",
    "        POS_features_df = pd.DataFrame(POS_features.toarray(), columns=columns).reset_index(drop = True)\n",
    "        df = pd.concat([df, POS_features_df], axis = 1)\n",
    "    except Exception as e:\n",
    "        print(f\"Error In Generating POS N-grams: {e}\")\n",
    "\n",
    "    #lowercase everything\n",
    "    df[text_col] = df[text_col].apply(str.lower)\n",
    "    df[text_col] = df[text_col].apply(clean_punct)\n",
    "\n",
    "    try:\n",
    "        stopwords_features = stopword_vectorizer.fit_transform(df[text_col]) if train else stopword_vectorizer.transform(df[text_col])\n",
    "        columns = [f'stop_{c}' for c in stopword_vectorizer.get_feature_names_out()]\n",
    "        stopwords_features_df = pd.DataFrame(stopwords_features.toarray(), columns=columns).reset_index(drop = True)\n",
    "        df = pd.concat([df, stopwords_features_df], axis = 1)\n",
    "    except Exception as e:\n",
    "        print(f\"Error In Generating Stopword N-grams: {e}\")\n",
    "\n",
    "    #remove stopwords here\n",
    "    df[text_col] = df[text_col].apply(remove_stopwords)\n",
    "    try:\n",
    "        words_features = word_vectorizer.fit_transform(df[text_col]) if train else word_vectorizer.transform(df[text_col])\n",
    "        columns = [f'word_{c}' for c in word_vectorizer.get_feature_names_out()]\n",
    "        words_features_df = pd.DataFrame(words_features.toarray(), columns=columns).reset_index(drop = True)\n",
    "        df = pd.concat([df, words_features_df], axis = 1)\n",
    "    except Exception as e:\n",
    "        print(f\"Error In Generating Word N-grams: {e}\")\n",
    "    return df"
   ]
  },
  {
   "cell_type": "code",
   "execution_count": 93,
   "metadata": {},
   "outputs": [
    {
     "name": "stderr",
     "output_type": "stream",
     "text": [
      "c:\\Users\\maria\\anaconda3\\envs\\fl_project_analysis\\lib\\site-packages\\sklearn\\feature_extraction\\text.py:525: UserWarning: The parameter 'token_pattern' will not be used since 'tokenizer' is not None'\n",
      "  warnings.warn(\n",
      "c:\\Users\\maria\\anaconda3\\envs\\fl_project_analysis\\lib\\site-packages\\sklearn\\feature_extraction\\text.py:525: UserWarning: The parameter 'token_pattern' will not be used since 'tokenizer' is not None'\n",
      "  warnings.warn(\n"
     ]
    }
   ],
   "source": [
    "df_train_processed = preprocess_data(df_train, 're_text', train = True)"
   ]
  },
  {
   "cell_type": "code",
   "execution_count": 53,
   "metadata": {},
   "outputs": [],
   "source": [
    "#df_train_processed.to_pickle(\"./df_train_processed.pkl\")"
   ]
  },
  {
   "cell_type": "code",
   "execution_count": 94,
   "metadata": {},
   "outputs": [],
   "source": [
    "df_val_processed = preprocess_data(df_val, 're_text', train = False)"
   ]
  },
  {
   "cell_type": "code",
   "execution_count": 95,
   "metadata": {},
   "outputs": [],
   "source": [
    "df_test_0_processed = preprocess_data(df_test_0, 're_text', train = False)"
   ]
  },
  {
   "cell_type": "code",
   "execution_count": 96,
   "metadata": {},
   "outputs": [],
   "source": [
    "df_test_1_processed = preprocess_data(df_test_1, 're_text', train = False)"
   ]
  },
  {
   "cell_type": "code",
   "execution_count": 57,
   "metadata": {},
   "outputs": [],
   "source": [
    "# df_val_processed.to_pickle(\"./df_val_processed.pkl\")\n",
    "# df_test_0_processed.to_pickle(\"./df_test_0_processed.pkl\")\n",
    "# df_test_1_processed.to_pickle(\"./df_test_1_processed.pkl\")"
   ]
  },
  {
   "cell_type": "markdown",
   "metadata": {},
   "source": [
    "# 4. Run Models"
   ]
  },
  {
   "cell_type": "code",
   "execution_count": 97,
   "metadata": {},
   "outputs": [],
   "source": [
    "from sklearn.svm import SVC\n",
    "from sklearn.ensemble import RandomForestClassifier\n",
    "from sklearn.linear_model import LogisticRegression"
   ]
  },
  {
   "cell_type": "code",
   "execution_count": 142,
   "metadata": {},
   "outputs": [],
   "source": [
    "X_train = df_train_processed.drop(columns = [\"Author\", \"Chunk\", \"text\", \"re_text\", \"POS_string\", \"Type\", \"Pub\", \"ID\", \"Unnamed: 0\", \"mean_flesch\"])\n",
    "colnames_reg = X_train.columns\n",
    "y_train = df_train_processed['Author']\n",
    "X_val = df_val_processed.drop(columns = [\"Author\", \"Chunk\", \"text\",  \"re_text\", \"POS_string\", \"Type\", \"Pub\", \"ID\", \"Unnamed: 0\", \"mean_flesch\"])\n",
    "y_val = df_val_processed['Author']"
   ]
  },
  {
   "cell_type": "code",
   "execution_count": 143,
   "metadata": {},
   "outputs": [],
   "source": [
    "from sklearn.preprocessing import StandardScaler\n",
    "scaler = StandardScaler()\n",
    "X_train = scaler.fit_transform(X_train)\n",
    "X_val = scaler.transform(X_val)"
   ]
  },
  {
   "cell_type": "code",
   "execution_count": 99,
   "metadata": {},
   "outputs": [],
   "source": [
    "def run_classifier(X_train, y_train, X_val, y_val, model):\n",
    "    # Make predictions on the test set\n",
    "    model.fit(X_train, y_train)\n",
    "    y_pred = model.predict(X_val)\n",
    "    # Evaluate the accuracy of the model\n",
    "    return y_pred"
   ]
  },
  {
   "cell_type": "code",
   "execution_count": 107,
   "metadata": {},
   "outputs": [],
   "source": [
    "#1. SVC\n",
    "SVC_model = SVC(kernel = \"linear\")\n",
    "predictions_SVC = run_classifier(X_train, y_train, X_val, y_val, SVC_model)"
   ]
  },
  {
   "cell_type": "code",
   "execution_count": 144,
   "metadata": {},
   "outputs": [],
   "source": [
    "#2. RF\n",
    "RF_model = RandomForestClassifier()\n",
    "predictions_RF = run_classifier(X_train, y_train, X_val, y_val, RF_model)"
   ]
  },
  {
   "cell_type": "code",
   "execution_count": 145,
   "metadata": {},
   "outputs": [],
   "source": [
    "forest_importances = pd.Series(RF_model.feature_importances_, index=colnames_reg)"
   ]
  },
  {
   "cell_type": "code",
   "execution_count": 146,
   "metadata": {},
   "outputs": [
    {
     "data": {
      "text/plain": [
       "flesch_score               0.005730\n",
       "pos_noun punct verb        0.005629\n",
       "pos_space noun             0.004334\n",
       "word_it                    0.003929\n",
       "pos_det space              0.003802\n",
       "word_this                  0.003756\n",
       "pos_noun verb              0.003546\n",
       "stop_the                   0.003499\n",
       "pos_adj noun adp verb      0.003352\n",
       "word_paper                 0.003298\n",
       "word_with                  0.003135\n",
       "avg_word_length            0.003082\n",
       "pos_punct verb             0.003065\n",
       "lexical_diversity          0.003048\n",
       "pos_adp verb               0.003026\n",
       "pos_punct det adj          0.002953\n",
       "word_no                    0.002767\n",
       "word_reasoning             0.002747\n",
       "sent_score                 0.002724\n",
       "stop_this                  0.002705\n",
       "punct_:                    0.002688\n",
       "word_layers                0.002687\n",
       "word_is                    0.002672\n",
       "pos_noun punct pron        0.002645\n",
       "pos_punct det              0.002621\n",
       "pos_noun noun punct        0.002587\n",
       "pos_verb det adj           0.002508\n",
       "pos_noun propn             0.002464\n",
       "pos_det noun noun          0.002435\n",
       "avg_word_per_sentence      0.002337\n",
       "word_image                 0.002289\n",
       "pos_verb noun adp det      0.002285\n",
       "pos_pron verb              0.002248\n",
       "pos_adp noun               0.002245\n",
       "pos_aux verb               0.002153\n",
       "pos_verb propn punct       0.002104\n",
       "pos_det det                0.002090\n",
       "pos_noun adp verb noun     0.002085\n",
       "word_be                    0.002064\n",
       "stop_we                    0.002046\n",
       "punct_.                    0.002019\n",
       "pos_punct pron             0.001976\n",
       "word_however               0.001967\n",
       "stop_can                   0.001943\n",
       "word_state of the          0.001909\n",
       "pos_adj noun punct verb    0.001893\n",
       "pos_punct det adj noun     0.001855\n",
       "pos_noun part              0.001850\n",
       "word_on                    0.001849\n",
       "word_performance           0.001827\n",
       "dtype: float64"
      ]
     },
     "execution_count": 146,
     "metadata": {},
     "output_type": "execute_result"
    }
   ],
   "source": [
    "forest_importances.sort_values(ascending=False).head(50)"
   ]
  },
  {
   "cell_type": "code",
   "execution_count": 149,
   "metadata": {},
   "outputs": [
    {
     "ename": "ImportError",
     "evalue": "cannot import name 'if_delegate_has_method' from 'sklearn.utils.metaestimators' (c:\\Users\\maria\\anaconda3\\envs\\fl_project_analysis\\lib\\site-packages\\sklearn\\utils\\metaestimators.py)",
     "output_type": "error",
     "traceback": [
      "\u001b[1;31m---------------------------------------------------------------------------\u001b[0m",
      "\u001b[1;31mImportError\u001b[0m                               Traceback (most recent call last)",
      "\u001b[1;32mc:\\Users\\maria\\OneDrive\\Documents\\GitHub\\AI_Authorship_Attribution\\src\\gpt-who.ipynb Cell 56\u001b[0m line \u001b[0;36m1\n\u001b[1;32m----> <a href='vscode-notebook-cell:/c%3A/Users/maria/OneDrive/Documents/GitHub/AI_Authorship_Attribution/src/gpt-who.ipynb#Y140sZmlsZQ%3D%3D?line=0'>1</a>\u001b[0m \u001b[39mimport\u001b[39;00m \u001b[39meli5\u001b[39;00m\n\u001b[0;32m      <a href='vscode-notebook-cell:/c%3A/Users/maria/OneDrive/Documents/GitHub/AI_Authorship_Attribution/src/gpt-who.ipynb#Y140sZmlsZQ%3D%3D?line=1'>2</a>\u001b[0m \u001b[39mfrom\u001b[39;00m \u001b[39meli5\u001b[39;00m \u001b[39mimport\u001b[39;00m show_prediction, show_weights\n",
      "File \u001b[1;32mc:\\Users\\maria\\anaconda3\\envs\\fl_project_analysis\\lib\\site-packages\\eli5\\__init__.py:13\u001b[0m\n\u001b[0;32m      6\u001b[0m \u001b[39mfrom\u001b[39;00m \u001b[39m.\u001b[39;00m\u001b[39mformatters\u001b[39;00m \u001b[39mimport\u001b[39;00m (\n\u001b[0;32m      7\u001b[0m     format_as_html,\n\u001b[0;32m      8\u001b[0m     format_html_styles,\n\u001b[0;32m      9\u001b[0m     format_as_text,\n\u001b[0;32m     10\u001b[0m     format_as_dict,\n\u001b[0;32m     11\u001b[0m )\n\u001b[0;32m     12\u001b[0m \u001b[39mfrom\u001b[39;00m \u001b[39m.\u001b[39;00m\u001b[39mexplain\u001b[39;00m \u001b[39mimport\u001b[39;00m explain_weights, explain_prediction\n\u001b[1;32m---> 13\u001b[0m \u001b[39mfrom\u001b[39;00m \u001b[39m.\u001b[39;00m\u001b[39msklearn\u001b[39;00m \u001b[39mimport\u001b[39;00m explain_weights_sklearn, explain_prediction_sklearn\n\u001b[0;32m     14\u001b[0m \u001b[39mfrom\u001b[39;00m \u001b[39m.\u001b[39;00m\u001b[39mtransform\u001b[39;00m \u001b[39mimport\u001b[39;00m transform_feature_names\n\u001b[0;32m     17\u001b[0m \u001b[39mtry\u001b[39;00m:\n",
      "File \u001b[1;32mc:\\Users\\maria\\anaconda3\\envs\\fl_project_analysis\\lib\\site-packages\\eli5\\sklearn\\__init__.py:3\u001b[0m\n\u001b[0;32m      1\u001b[0m \u001b[39m# -*- coding: utf-8 -*-\u001b[39;00m\n\u001b[0;32m      2\u001b[0m \u001b[39mfrom\u001b[39;00m \u001b[39m__future__\u001b[39;00m \u001b[39mimport\u001b[39;00m absolute_import\n\u001b[1;32m----> 3\u001b[0m \u001b[39mfrom\u001b[39;00m \u001b[39m.\u001b[39;00m\u001b[39mexplain_weights\u001b[39;00m \u001b[39mimport\u001b[39;00m (\n\u001b[0;32m      4\u001b[0m     explain_weights_sklearn,\n\u001b[0;32m      5\u001b[0m     explain_linear_classifier_weights,\n\u001b[0;32m      6\u001b[0m     explain_linear_regressor_weights,\n\u001b[0;32m      7\u001b[0m     explain_rf_feature_importance,\n\u001b[0;32m      8\u001b[0m     explain_decision_tree,\n\u001b[0;32m      9\u001b[0m )\n\u001b[0;32m     10\u001b[0m \u001b[39mfrom\u001b[39;00m \u001b[39m.\u001b[39;00m\u001b[39mexplain_prediction\u001b[39;00m \u001b[39mimport\u001b[39;00m (\n\u001b[0;32m     11\u001b[0m     explain_prediction_sklearn,\n\u001b[0;32m     12\u001b[0m     explain_prediction_linear_classifier,\n\u001b[0;32m     13\u001b[0m     explain_prediction_linear_regressor,\n\u001b[0;32m     14\u001b[0m )\n\u001b[0;32m     15\u001b[0m \u001b[39mfrom\u001b[39;00m \u001b[39m.\u001b[39;00m\u001b[39munhashing\u001b[39;00m \u001b[39mimport\u001b[39;00m (\n\u001b[0;32m     16\u001b[0m     InvertableHashingVectorizer,\n\u001b[0;32m     17\u001b[0m     FeatureUnhasher,\n\u001b[0;32m     18\u001b[0m     invert_hashing_and_fit,\n\u001b[0;32m     19\u001b[0m )\n",
      "File \u001b[1;32mc:\\Users\\maria\\anaconda3\\envs\\fl_project_analysis\\lib\\site-packages\\eli5\\sklearn\\explain_weights.py:78\u001b[0m\n\u001b[0;32m     73\u001b[0m \u001b[39mfrom\u001b[39;00m \u001b[39meli5\u001b[39;00m\u001b[39m.\u001b[39;00m\u001b[39mtransform\u001b[39;00m \u001b[39mimport\u001b[39;00m transform_feature_names\n\u001b[0;32m     74\u001b[0m \u001b[39mfrom\u001b[39;00m \u001b[39meli5\u001b[39;00m\u001b[39m.\u001b[39;00m\u001b[39m_feature_importances\u001b[39;00m \u001b[39mimport\u001b[39;00m (\n\u001b[0;32m     75\u001b[0m     get_feature_importances_filtered,\n\u001b[0;32m     76\u001b[0m     get_feature_importance_explanation,\n\u001b[0;32m     77\u001b[0m )\n\u001b[1;32m---> 78\u001b[0m \u001b[39mfrom\u001b[39;00m \u001b[39m.\u001b[39;00m\u001b[39mpermutation_importance\u001b[39;00m \u001b[39mimport\u001b[39;00m PermutationImportance\n\u001b[0;32m     81\u001b[0m LINEAR_CAVEATS \u001b[39m=\u001b[39m \u001b[39m\"\"\"\u001b[39m\n\u001b[0;32m     82\u001b[0m \u001b[39mCaveats:\u001b[39m\n\u001b[0;32m     83\u001b[0m \u001b[39m1. Be careful with features which are not\u001b[39m\n\u001b[1;32m   (...)\u001b[0m\n\u001b[0;32m     90\u001b[0m \u001b[39m   classification result for most examples.\u001b[39m\n\u001b[0;32m     91\u001b[0m \u001b[39m\"\"\"\u001b[39m\u001b[39m.\u001b[39mlstrip()\n\u001b[0;32m     93\u001b[0m HASHING_CAVEATS \u001b[39m=\u001b[39m \u001b[39m\"\"\"\u001b[39m\n\u001b[0;32m     94\u001b[0m \u001b[39mFeature names are restored from their hashes; this is not 100\u001b[39m\u001b[39m%\u001b[39m\u001b[39m precise\u001b[39m\n\u001b[0;32m     95\u001b[0m \u001b[39mbecause collisions are possible. For known collisions possible feature names\u001b[39m\n\u001b[1;32m   (...)\u001b[0m\n\u001b[0;32m     99\u001b[0m \u001b[39mthe result is positive.\u001b[39m\n\u001b[0;32m    100\u001b[0m \u001b[39m\"\"\"\u001b[39m\u001b[39m.\u001b[39mlstrip()\n",
      "File \u001b[1;32mc:\\Users\\maria\\anaconda3\\envs\\fl_project_analysis\\lib\\site-packages\\eli5\\sklearn\\permutation_importance.py:7\u001b[0m\n\u001b[0;32m      5\u001b[0m \u001b[39mimport\u001b[39;00m \u001b[39mnumpy\u001b[39;00m \u001b[39mas\u001b[39;00m \u001b[39mnp\u001b[39;00m\n\u001b[0;32m      6\u001b[0m \u001b[39mfrom\u001b[39;00m \u001b[39msklearn\u001b[39;00m\u001b[39m.\u001b[39;00m\u001b[39mmodel_selection\u001b[39;00m \u001b[39mimport\u001b[39;00m check_cv\n\u001b[1;32m----> 7\u001b[0m \u001b[39mfrom\u001b[39;00m \u001b[39msklearn\u001b[39;00m\u001b[39m.\u001b[39;00m\u001b[39mutils\u001b[39;00m\u001b[39m.\u001b[39;00m\u001b[39mmetaestimators\u001b[39;00m \u001b[39mimport\u001b[39;00m if_delegate_has_method\n\u001b[0;32m      8\u001b[0m \u001b[39mfrom\u001b[39;00m \u001b[39msklearn\u001b[39;00m\u001b[39m.\u001b[39;00m\u001b[39mutils\u001b[39;00m \u001b[39mimport\u001b[39;00m check_array, check_random_state\n\u001b[0;32m      9\u001b[0m \u001b[39mfrom\u001b[39;00m \u001b[39msklearn\u001b[39;00m\u001b[39m.\u001b[39;00m\u001b[39mbase\u001b[39;00m \u001b[39mimport\u001b[39;00m (\n\u001b[0;32m     10\u001b[0m     BaseEstimator,\n\u001b[0;32m     11\u001b[0m     MetaEstimatorMixin,\n\u001b[0;32m     12\u001b[0m     clone,\n\u001b[0;32m     13\u001b[0m     is_classifier\n\u001b[0;32m     14\u001b[0m )\n",
      "\u001b[1;31mImportError\u001b[0m: cannot import name 'if_delegate_has_method' from 'sklearn.utils.metaestimators' (c:\\Users\\maria\\anaconda3\\envs\\fl_project_analysis\\lib\\site-packages\\sklearn\\utils\\metaestimators.py)"
     ]
    }
   ],
   "source": [
    "import eli5\n",
    "from eli5 import show_prediction, show_weights"
   ]
  },
  {
   "cell_type": "code",
   "execution_count": 28,
   "metadata": {},
   "outputs": [
    {
     "data": {
      "text/plain": [
       "40"
      ]
     },
     "execution_count": 28,
     "metadata": {},
     "output_type": "execute_result"
    }
   ],
   "source": [
    "len(np.where(y_val == predictions_SVC)[0])"
   ]
  },
  {
   "cell_type": "code",
   "execution_count": 30,
   "metadata": {},
   "outputs": [
    {
     "name": "stderr",
     "output_type": "stream",
     "text": [
      "/home/lluneta/anaconda3/lib/python3.9/site-packages/sklearn/linear_model/_logistic.py:814: ConvergenceWarning: lbfgs failed to converge (status=1):\n",
      "STOP: TOTAL NO. of ITERATIONS REACHED LIMIT.\n",
      "\n",
      "Increase the number of iterations (max_iter) or scale the data as shown in:\n",
      "    https://scikit-learn.org/stable/modules/preprocessing.html\n",
      "Please also refer to the documentation for alternative solver options:\n",
      "    https://scikit-learn.org/stable/modules/linear_model.html#logistic-regression\n",
      "  n_iter_i = _check_optimize_result(\n"
     ]
    }
   ],
   "source": [
    "clf = LogisticRegression(random_state=0)\n",
    "predictions_LR = run_classifier(X_train, y_train, X_val, y_val, clf)"
   ]
  },
  {
   "cell_type": "code",
   "execution_count": null,
   "metadata": {},
   "outputs": [],
   "source": []
  },
  {
   "cell_type": "markdown",
   "metadata": {},
   "source": [
    "## 5. Principal component analysis"
   ]
  },
  {
   "cell_type": "code",
   "execution_count": 47,
   "metadata": {},
   "outputs": [
    {
     "name": "stderr",
     "output_type": "stream",
     "text": [
      "/home/lluneta/anaconda3/lib/python3.9/site-packages/numpy/lib/function_base.py:2691: RuntimeWarning: invalid value encountered in true_divide\n",
      "  c /= stddev[:, None]\n",
      "/home/lluneta/anaconda3/lib/python3.9/site-packages/numpy/lib/function_base.py:2692: RuntimeWarning: invalid value encountered in true_divide\n",
      "  c /= stddev[None, :]\n",
      "/tmp/ipykernel_214465/2338430262.py:13: UserWarning: FixedFormatter should only be used together with FixedLocator\n",
      "  ax.set_xticklabels(feature_names, rotation=90)\n",
      "/tmp/ipykernel_214465/2338430262.py:15: UserWarning: FixedFormatter should only be used together with FixedLocator\n",
      "  ax.set_yticklabels(list(feature_names))\n"
     ]
    },
    {
     "data": {
      "image/png": "[encoded data removed]",
      "text/plain": [
       "<Figure size 432x288 with 2 Axes>"
      ]
     },
     "metadata": {
      "needs_background": "light"
     },
     "output_type": "display_data"
    }
   ],
   "source": [
    "from sklearn.preprocessing import StandardScaler\n",
    "import matplotlib.pyplot as plt\n",
    "feature_names = X_train.columns.values.tolist()\n",
    "\n",
    "X = StandardScaler().fit_transform(X_train)\n",
    "\n",
    "ax = plt.axes()\n",
    "\n",
    "im = ax.imshow(np.corrcoef(X.T), cmap=\"RdBu_r\", vmin=-1, vmax=1)\n",
    "\n",
    "#ax.set_xticks([0, 1, 2, 3])\n",
    "#ax.set_xticklabels(feature_names, rotation=90)\n",
    "#ax.set_yticks([0, 1, 2, 3])\n",
    "#ax.set_yticklabels(list(feature_names))\n",
    "\n",
    "plt.colorbar(im).ax.set_ylabel(\"$r$\", rotation=0)\n",
    "ax.set_title(\"Feature correlation matrix\")\n",
    "plt.tight_layout()\n"
   ]
  },
  {
   "cell_type": "code",
   "execution_count": 44,
   "metadata": {},
   "outputs": [
    {
     "data": {
      "image/png": "[encoded data removed]",
      "text/plain": [
       "<Figure size 432x288 with 1 Axes>"
      ]
     },
     "metadata": {
      "needs_background": "light"
     },
     "output_type": "display_data"
    }
   ],
   "source": [
    "from sklearn.decomposition import PCA\n",
    "from sklearn.preprocessing import StandardScaler\n",
    "import matplotlib.pyplot as plt\n",
    "\n",
    "\n",
    "feature_names = X_train.columns.values.tolist()\n",
    "\n",
    "pca = PCA(n_components=min(len(feature_names), len(X_train.index)))\n",
    "pca.fit_transform(X)\n",
    "\n",
    "fig, ax = plt.subplots()\n",
    "var_explained = pca.explained_variance_ratio_.cumsum()\n",
    "components = [i+1 for i in range(len(var_explained))]\n",
    "ax.plot(components, var_explained)\n",
    "\n",
    "\n",
    "ax.set(xlabel='Number of features', ylabel='Variance explained.',\n",
    "       title='PCA analysis')\n",
    "ax.grid()\n",
    "\n",
    "fig.savefig(\"pca_analysis.png\")\n",
    "plt.show()\n"
   ]
  },
  {
   "cell_type": "code",
   "execution_count": null,
   "metadata": {},
   "outputs": [],
   "source": []
  }
 ],
 "metadata": {
  "kernelspec": {
   "display_name": "Python 3 (ipykernel)",
   "language": "python",
   "name": "python3"
  },
  "language_info": {
   "codemirror_mode": {
    "name": "ipython",
    "version": 3
   },
   "file_extension": ".py",
   "mimetype": "text/x-python",
   "name": "python",
   "nbconvert_exporter": "python",
   "pygments_lexer": "ipython3",
   "version": "3.10.9"
  }
 },
 "nbformat": 4,
 "nbformat_minor": 4
}
